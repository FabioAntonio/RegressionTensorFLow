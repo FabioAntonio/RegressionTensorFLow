{
 "cells": [
  {
   "cell_type": "code",
   "execution_count": 1,
   "metadata": {},
   "outputs": [
    {
     "data": {
      "text/html": [
       "<div>\n",
       "<style scoped>\n",
       "    .dataframe tbody tr th:only-of-type {\n",
       "        vertical-align: middle;\n",
       "    }\n",
       "\n",
       "    .dataframe tbody tr th {\n",
       "        vertical-align: top;\n",
       "    }\n",
       "\n",
       "    .dataframe thead th {\n",
       "        text-align: right;\n",
       "    }\n",
       "</style>\n",
       "<table border=\"1\" class=\"dataframe\">\n",
       "  <thead>\n",
       "    <tr style=\"text-align: right;\">\n",
       "      <th></th>\n",
       "      <th>id</th>\n",
       "      <th>date</th>\n",
       "      <th>price</th>\n",
       "      <th>bedrooms</th>\n",
       "      <th>bathrooms</th>\n",
       "      <th>sqft_living</th>\n",
       "      <th>sqft_lot</th>\n",
       "      <th>floors</th>\n",
       "      <th>waterfront</th>\n",
       "      <th>view</th>\n",
       "      <th>...</th>\n",
       "      <th>grade</th>\n",
       "      <th>sqft_above</th>\n",
       "      <th>sqft_basement</th>\n",
       "      <th>yr_built</th>\n",
       "      <th>yr_renovated</th>\n",
       "      <th>zipcode</th>\n",
       "      <th>lat</th>\n",
       "      <th>long</th>\n",
       "      <th>sqft_living15</th>\n",
       "      <th>sqft_lot15</th>\n",
       "    </tr>\n",
       "  </thead>\n",
       "  <tbody>\n",
       "    <tr>\n",
       "      <th>0</th>\n",
       "      <td>7129300520</td>\n",
       "      <td>20141013T000000</td>\n",
       "      <td>221900.0</td>\n",
       "      <td>3</td>\n",
       "      <td>1.00</td>\n",
       "      <td>1180</td>\n",
       "      <td>5650</td>\n",
       "      <td>1.0</td>\n",
       "      <td>0</td>\n",
       "      <td>0</td>\n",
       "      <td>...</td>\n",
       "      <td>7</td>\n",
       "      <td>1180</td>\n",
       "      <td>0</td>\n",
       "      <td>1955</td>\n",
       "      <td>0</td>\n",
       "      <td>98178</td>\n",
       "      <td>47.5112</td>\n",
       "      <td>-122.257</td>\n",
       "      <td>1340</td>\n",
       "      <td>5650</td>\n",
       "    </tr>\n",
       "    <tr>\n",
       "      <th>1</th>\n",
       "      <td>6414100192</td>\n",
       "      <td>20141209T000000</td>\n",
       "      <td>538000.0</td>\n",
       "      <td>3</td>\n",
       "      <td>2.25</td>\n",
       "      <td>2570</td>\n",
       "      <td>7242</td>\n",
       "      <td>2.0</td>\n",
       "      <td>0</td>\n",
       "      <td>0</td>\n",
       "      <td>...</td>\n",
       "      <td>7</td>\n",
       "      <td>2170</td>\n",
       "      <td>400</td>\n",
       "      <td>1951</td>\n",
       "      <td>1991</td>\n",
       "      <td>98125</td>\n",
       "      <td>47.7210</td>\n",
       "      <td>-122.319</td>\n",
       "      <td>1690</td>\n",
       "      <td>7639</td>\n",
       "    </tr>\n",
       "    <tr>\n",
       "      <th>2</th>\n",
       "      <td>5631500400</td>\n",
       "      <td>20150225T000000</td>\n",
       "      <td>180000.0</td>\n",
       "      <td>2</td>\n",
       "      <td>1.00</td>\n",
       "      <td>770</td>\n",
       "      <td>10000</td>\n",
       "      <td>1.0</td>\n",
       "      <td>0</td>\n",
       "      <td>0</td>\n",
       "      <td>...</td>\n",
       "      <td>6</td>\n",
       "      <td>770</td>\n",
       "      <td>0</td>\n",
       "      <td>1933</td>\n",
       "      <td>0</td>\n",
       "      <td>98028</td>\n",
       "      <td>47.7379</td>\n",
       "      <td>-122.233</td>\n",
       "      <td>2720</td>\n",
       "      <td>8062</td>\n",
       "    </tr>\n",
       "    <tr>\n",
       "      <th>3</th>\n",
       "      <td>2487200875</td>\n",
       "      <td>20141209T000000</td>\n",
       "      <td>604000.0</td>\n",
       "      <td>4</td>\n",
       "      <td>3.00</td>\n",
       "      <td>1960</td>\n",
       "      <td>5000</td>\n",
       "      <td>1.0</td>\n",
       "      <td>0</td>\n",
       "      <td>0</td>\n",
       "      <td>...</td>\n",
       "      <td>7</td>\n",
       "      <td>1050</td>\n",
       "      <td>910</td>\n",
       "      <td>1965</td>\n",
       "      <td>0</td>\n",
       "      <td>98136</td>\n",
       "      <td>47.5208</td>\n",
       "      <td>-122.393</td>\n",
       "      <td>1360</td>\n",
       "      <td>5000</td>\n",
       "    </tr>\n",
       "    <tr>\n",
       "      <th>4</th>\n",
       "      <td>1954400510</td>\n",
       "      <td>20150218T000000</td>\n",
       "      <td>510000.0</td>\n",
       "      <td>3</td>\n",
       "      <td>2.00</td>\n",
       "      <td>1680</td>\n",
       "      <td>8080</td>\n",
       "      <td>1.0</td>\n",
       "      <td>0</td>\n",
       "      <td>0</td>\n",
       "      <td>...</td>\n",
       "      <td>8</td>\n",
       "      <td>1680</td>\n",
       "      <td>0</td>\n",
       "      <td>1987</td>\n",
       "      <td>0</td>\n",
       "      <td>98074</td>\n",
       "      <td>47.6168</td>\n",
       "      <td>-122.045</td>\n",
       "      <td>1800</td>\n",
       "      <td>7503</td>\n",
       "    </tr>\n",
       "  </tbody>\n",
       "</table>\n",
       "<p>5 rows × 21 columns</p>\n",
       "</div>"
      ],
      "text/plain": [
       "           id             date     price  bedrooms  bathrooms  sqft_living  \\\n",
       "0  7129300520  20141013T000000  221900.0         3       1.00         1180   \n",
       "1  6414100192  20141209T000000  538000.0         3       2.25         2570   \n",
       "2  5631500400  20150225T000000  180000.0         2       1.00          770   \n",
       "3  2487200875  20141209T000000  604000.0         4       3.00         1960   \n",
       "4  1954400510  20150218T000000  510000.0         3       2.00         1680   \n",
       "\n",
       "   sqft_lot  floors  waterfront  view     ...      grade  sqft_above  \\\n",
       "0      5650     1.0           0     0     ...          7        1180   \n",
       "1      7242     2.0           0     0     ...          7        2170   \n",
       "2     10000     1.0           0     0     ...          6         770   \n",
       "3      5000     1.0           0     0     ...          7        1050   \n",
       "4      8080     1.0           0     0     ...          8        1680   \n",
       "\n",
       "   sqft_basement  yr_built  yr_renovated  zipcode      lat     long  \\\n",
       "0              0      1955             0    98178  47.5112 -122.257   \n",
       "1            400      1951          1991    98125  47.7210 -122.319   \n",
       "2              0      1933             0    98028  47.7379 -122.233   \n",
       "3            910      1965             0    98136  47.5208 -122.393   \n",
       "4              0      1987             0    98074  47.6168 -122.045   \n",
       "\n",
       "   sqft_living15  sqft_lot15  \n",
       "0           1340        5650  \n",
       "1           1690        7639  \n",
       "2           2720        8062  \n",
       "3           1360        5000  \n",
       "4           1800        7503  \n",
       "\n",
       "[5 rows x 21 columns]"
      ]
     },
     "execution_count": 1,
     "metadata": {},
     "output_type": "execute_result"
    }
   ],
   "source": [
    "import pandas as pd\n",
    "base = pd.read_csv('house-prices.csv')\n",
    "base.head()"
   ]
  },
  {
   "cell_type": "code",
   "execution_count": 2,
   "metadata": {},
   "outputs": [
    {
     "data": {
      "text/plain": [
       "(21613, 21)"
      ]
     },
     "execution_count": 2,
     "metadata": {},
     "output_type": "execute_result"
    }
   ],
   "source": [
    "base.shape"
   ]
  },
  {
   "cell_type": "code",
   "execution_count": 3,
   "metadata": {},
   "outputs": [],
   "source": [
    "x = base.iloc[:, 5:6].values\n",
    "y = base.iloc[:, 2:3].values"
   ]
  },
  {
   "cell_type": "code",
   "execution_count": 4,
   "metadata": {},
   "outputs": [
    {
     "data": {
      "text/plain": [
       "array([[1180],\n",
       "       [2570],\n",
       "       [ 770],\n",
       "       ...,\n",
       "       [1020],\n",
       "       [1600],\n",
       "       [1020]], dtype=int64)"
      ]
     },
     "execution_count": 4,
     "metadata": {},
     "output_type": "execute_result"
    }
   ],
   "source": [
    "x"
   ]
  },
  {
   "cell_type": "code",
   "execution_count": 5,
   "metadata": {},
   "outputs": [
    {
     "data": {
      "text/plain": [
       "array([[221900.],\n",
       "       [538000.],\n",
       "       [180000.],\n",
       "       ...,\n",
       "       [402101.],\n",
       "       [400000.],\n",
       "       [325000.]])"
      ]
     },
     "execution_count": 5,
     "metadata": {},
     "output_type": "execute_result"
    }
   ],
   "source": [
    "y"
   ]
  },
  {
   "cell_type": "code",
   "execution_count": null,
   "metadata": {},
   "outputs": [],
   "source": [
    "from sklearn.preprocessing import StandardScaler\n",
    "scaler_x = StandardScaler()\n",
    "x = scaler_x.fit_transform(x)\n",
    "scaler_y = StandardScaler()\n",
    "y = scaler_y.fit_transform(y)"
   ]
  },
  {
   "cell_type": "code",
   "execution_count": 8,
   "metadata": {},
   "outputs": [
    {
     "data": {
      "text/plain": [
       "array([[-0.97983502],\n",
       "       [ 0.53363434],\n",
       "       [-1.42625404],\n",
       "       ...,\n",
       "       [-1.15404732],\n",
       "       [-0.52252773],\n",
       "       [-1.15404732]])"
      ]
     },
     "execution_count": 8,
     "metadata": {},
     "output_type": "execute_result"
    }
   ],
   "source": [
    "x"
   ]
  },
  {
   "cell_type": "code",
   "execution_count": 9,
   "metadata": {},
   "outputs": [
    {
     "data": {
      "text/plain": [
       "array([[-0.86671733],\n",
       "       [-0.00568792],\n",
       "       [-0.98084935],\n",
       "       ...,\n",
       "       [-0.37586519],\n",
       "       [-0.38158814],\n",
       "       [-0.58588173]])"
      ]
     },
     "execution_count": 9,
     "metadata": {},
     "output_type": "execute_result"
    }
   ],
   "source": [
    "y"
   ]
  },
  {
   "cell_type": "code",
   "execution_count": 10,
   "metadata": {},
   "outputs": [],
   "source": [
    "import tensorflow as tf"
   ]
  },
  {
   "cell_type": "code",
   "execution_count": 12,
   "metadata": {},
   "outputs": [],
   "source": [
    "colunas = [tf.feature_column.numeric_column('x', shape = [1])]"
   ]
  },
  {
   "cell_type": "code",
   "execution_count": 13,
   "metadata": {},
   "outputs": [
    {
     "data": {
      "text/plain": [
       "[NumericColumn(key='x', shape=(1,), default_value=None, dtype=tf.float32, normalizer_fn=None)]"
      ]
     },
     "execution_count": 13,
     "metadata": {},
     "output_type": "execute_result"
    }
   ],
   "source": [
    "colunas"
   ]
  },
  {
   "cell_type": "code",
   "execution_count": null,
   "metadata": {},
   "outputs": [],
   "source": [
    "regressor = tf.estimator.LinearRegressor(feature_columns = colunas)"
   ]
  },
  {
   "cell_type": "code",
   "execution_count": 16,
   "metadata": {},
   "outputs": [],
   "source": [
    "from sklearn.model_selection import train_test_split\n",
    "x_treinamento, x_teste, y_treinamento, y_teste = train_test_split(x, y, test_size = 0.3)"
   ]
  },
  {
   "cell_type": "code",
   "execution_count": 18,
   "metadata": {},
   "outputs": [
    {
     "data": {
      "text/plain": [
       "(15129, 1)"
      ]
     },
     "execution_count": 18,
     "metadata": {},
     "output_type": "execute_result"
    }
   ],
   "source": [
    "x_treinamento.shape"
   ]
  },
  {
   "cell_type": "code",
   "execution_count": 19,
   "metadata": {},
   "outputs": [
    {
     "data": {
      "text/plain": [
       "(15129, 1)"
      ]
     },
     "execution_count": 19,
     "metadata": {},
     "output_type": "execute_result"
    }
   ],
   "source": [
    "y_treinamento.shape"
   ]
  },
  {
   "cell_type": "code",
   "execution_count": 20,
   "metadata": {},
   "outputs": [
    {
     "data": {
      "text/plain": [
       "(6484, 1)"
      ]
     },
     "execution_count": 20,
     "metadata": {},
     "output_type": "execute_result"
    }
   ],
   "source": [
    "x_teste.shape"
   ]
  },
  {
   "cell_type": "code",
   "execution_count": 21,
   "metadata": {},
   "outputs": [
    {
     "data": {
      "text/plain": [
       "(6484, 1)"
      ]
     },
     "execution_count": 21,
     "metadata": {},
     "output_type": "execute_result"
    }
   ],
   "source": [
    "y_teste.shape"
   ]
  },
  {
   "cell_type": "code",
   "execution_count": 26,
   "metadata": {},
   "outputs": [],
   "source": [
    "funcao_treinamento = tf.estimator.inputs.numpy_input_fn({'x': x_treinamento}, y_treinamento,\n",
    "                                                        batch_size = 32, \n",
    "                                                        num_epochs = None,\n",
    "                                                        shuffle = True)"
   ]
  },
  {
   "cell_type": "code",
   "execution_count": 27,
   "metadata": {},
   "outputs": [],
   "source": [
    "funcao_teste = tf.estimator.inputs.numpy_input_fn({'x' : x_teste}, y_teste,\n",
    "                                                  batch_size = 32, \n",
    "                                                 num_epochs = 1000,\n",
    "                                                  shuffle = False)"
   ]
  },
  {
   "cell_type": "code",
   "execution_count": 28,
   "metadata": {},
   "outputs": [
    {
     "name": "stdout",
     "output_type": "stream",
     "text": [
      "WARNING:tensorflow:From C:\\Users\\fabio\\Anaconda3\\lib\\site-packages\\tensorflow\\python\\framework\\op_def_library.py:263: colocate_with (from tensorflow.python.framework.ops) is deprecated and will be removed in a future version.\n",
      "Instructions for updating:\n",
      "Colocations handled automatically by placer.\n",
      "WARNING:tensorflow:From C:\\Users\\fabio\\Anaconda3\\lib\\site-packages\\tensorflow_estimator\\python\\estimator\\inputs\\queues\\feeding_queue_runner.py:62: QueueRunner.__init__ (from tensorflow.python.training.queue_runner_impl) is deprecated and will be removed in a future version.\n",
      "Instructions for updating:\n",
      "To construct input pipelines, use the `tf.data` module.\n",
      "WARNING:tensorflow:From C:\\Users\\fabio\\Anaconda3\\lib\\site-packages\\tensorflow_estimator\\python\\estimator\\inputs\\queues\\feeding_functions.py:500: add_queue_runner (from tensorflow.python.training.queue_runner_impl) is deprecated and will be removed in a future version.\n",
      "Instructions for updating:\n",
      "To construct input pipelines, use the `tf.data` module.\n",
      "INFO:tensorflow:Calling model_fn.\n",
      "WARNING:tensorflow:From C:\\Users\\fabio\\Anaconda3\\lib\\site-packages\\tensorflow\\python\\feature_column\\feature_column_v2.py:2703: to_float (from tensorflow.python.ops.math_ops) is deprecated and will be removed in a future version.\n",
      "Instructions for updating:\n",
      "Use tf.cast instead.\n",
      "INFO:tensorflow:Done calling model_fn.\n",
      "INFO:tensorflow:Create CheckpointSaverHook.\n",
      "INFO:tensorflow:Graph was finalized.\n",
      "INFO:tensorflow:Running local_init_op.\n",
      "INFO:tensorflow:Done running local_init_op.\n",
      "WARNING:tensorflow:From C:\\Users\\fabio\\Anaconda3\\lib\\site-packages\\tensorflow\\python\\training\\monitored_session.py:809: start_queue_runners (from tensorflow.python.training.queue_runner_impl) is deprecated and will be removed in a future version.\n",
      "Instructions for updating:\n",
      "To construct input pipelines, use the `tf.data` module.\n",
      "INFO:tensorflow:Saving checkpoints for 0 into C:\\Users\\fabio\\AppData\\Local\\Temp\\tmp5x7uksyj\\model.ckpt.\n",
      "INFO:tensorflow:loss = 41.61343, step = 1\n",
      "INFO:tensorflow:global_step/sec: 1067.31\n",
      "INFO:tensorflow:loss = 27.303745, step = 101 (0.094 sec)\n",
      "INFO:tensorflow:global_step/sec: 1600.37\n",
      "INFO:tensorflow:loss = 10.89485, step = 201 (0.062 sec)\n",
      "INFO:tensorflow:global_step/sec: 2133.87\n",
      "INFO:tensorflow:loss = 8.719553, step = 301 (0.047 sec)\n",
      "INFO:tensorflow:global_step/sec: 1600.38\n",
      "INFO:tensorflow:loss = 15.043324, step = 401 (0.062 sec)\n",
      "INFO:tensorflow:global_step/sec: 1600.37\n",
      "INFO:tensorflow:loss = 9.277483, step = 501 (0.062 sec)\n",
      "INFO:tensorflow:global_step/sec: 2133.82\n",
      "INFO:tensorflow:loss = 11.817471, step = 601 (0.047 sec)\n",
      "INFO:tensorflow:global_step/sec: 2133.84\n",
      "INFO:tensorflow:loss = 14.814133, step = 701 (0.062 sec)\n",
      "INFO:tensorflow:global_step/sec: 1280.3\n",
      "INFO:tensorflow:loss = 12.459503, step = 801 (0.062 sec)\n",
      "INFO:tensorflow:global_step/sec: 2133.81\n",
      "INFO:tensorflow:loss = 15.4912815, step = 901 (0.047 sec)\n",
      "INFO:tensorflow:global_step/sec: 2133.84\n",
      "INFO:tensorflow:loss = 8.222145, step = 1001 (0.047 sec)\n",
      "INFO:tensorflow:global_step/sec: 2133.82\n",
      "INFO:tensorflow:loss = 15.518767, step = 1101 (0.062 sec)\n",
      "INFO:tensorflow:global_step/sec: 1600.39\n",
      "INFO:tensorflow:loss = 8.970854, step = 1201 (0.047 sec)\n",
      "INFO:tensorflow:global_step/sec: 2133.83\n",
      "INFO:tensorflow:loss = 17.019478, step = 1301 (0.047 sec)\n",
      "INFO:tensorflow:global_step/sec: 1600.38\n",
      "INFO:tensorflow:loss = 6.370162, step = 1401 (0.062 sec)\n",
      "INFO:tensorflow:global_step/sec: 2133.82\n",
      "INFO:tensorflow:loss = 16.020975, step = 1501 (0.047 sec)\n",
      "INFO:tensorflow:global_step/sec: 2133.83\n",
      "INFO:tensorflow:loss = 17.509518, step = 1601 (0.062 sec)\n",
      "INFO:tensorflow:global_step/sec: 1600.38\n",
      "INFO:tensorflow:loss = 83.61397, step = 1701 (0.062 sec)\n",
      "INFO:tensorflow:global_step/sec: 1600.37\n",
      "INFO:tensorflow:loss = 7.2910438, step = 1801 (0.047 sec)\n",
      "INFO:tensorflow:global_step/sec: 1600.37\n",
      "INFO:tensorflow:loss = 15.370438, step = 1901 (0.062 sec)\n",
      "INFO:tensorflow:global_step/sec: 2133.83\n",
      "INFO:tensorflow:loss = 8.835318, step = 2001 (0.047 sec)\n",
      "INFO:tensorflow:global_step/sec: 2133.82\n",
      "INFO:tensorflow:loss = 5.966771, step = 2101 (0.047 sec)\n",
      "INFO:tensorflow:global_step/sec: 1600.4\n",
      "INFO:tensorflow:loss = 11.24118, step = 2201 (0.062 sec)\n",
      "INFO:tensorflow:global_step/sec: 2133.82\n",
      "INFO:tensorflow:loss = 30.650902, step = 2301 (0.047 sec)\n",
      "INFO:tensorflow:global_step/sec: 2133.81\n",
      "INFO:tensorflow:loss = 9.059834, step = 2401 (0.047 sec)\n",
      "INFO:tensorflow:global_step/sec: 2133.82\n",
      "INFO:tensorflow:loss = 11.7429495, step = 2501 (0.047 sec)\n",
      "INFO:tensorflow:global_step/sec: 1600.39\n",
      "INFO:tensorflow:loss = 56.31285, step = 2601 (0.062 sec)\n",
      "INFO:tensorflow:global_step/sec: 2133.81\n",
      "INFO:tensorflow:loss = 5.791006, step = 2701 (0.047 sec)\n",
      "INFO:tensorflow:global_step/sec: 1600.39\n",
      "INFO:tensorflow:loss = 10.001001, step = 2801 (0.062 sec)\n",
      "INFO:tensorflow:global_step/sec: 1600.32\n",
      "INFO:tensorflow:loss = 10.640713, step = 2901 (0.062 sec)\n",
      "INFO:tensorflow:global_step/sec: 2133.94\n",
      "INFO:tensorflow:loss = 16.934465, step = 3001 (0.062 sec)\n",
      "INFO:tensorflow:global_step/sec: 1600.37\n",
      "INFO:tensorflow:loss = 11.221901, step = 3101 (0.047 sec)\n",
      "INFO:tensorflow:global_step/sec: 2133.83\n",
      "INFO:tensorflow:loss = 15.30684, step = 3201 (0.047 sec)\n",
      "INFO:tensorflow:global_step/sec: 2133.82\n",
      "INFO:tensorflow:loss = 6.0470405, step = 3301 (0.047 sec)\n",
      "INFO:tensorflow:global_step/sec: 1600.4\n",
      "INFO:tensorflow:loss = 7.922453, step = 3401 (0.062 sec)\n",
      "INFO:tensorflow:global_step/sec: 2133.8\n",
      "INFO:tensorflow:loss = 7.21871, step = 3501 (0.047 sec)\n",
      "INFO:tensorflow:global_step/sec: 1600.38\n",
      "INFO:tensorflow:loss = 7.2593584, step = 3601 (0.062 sec)\n",
      "INFO:tensorflow:global_step/sec: 1600.38\n",
      "INFO:tensorflow:loss = 9.15018, step = 3701 (0.062 sec)\n",
      "INFO:tensorflow:global_step/sec: 1600.31\n",
      "INFO:tensorflow:loss = 10.329257, step = 3801 (0.062 sec)\n",
      "INFO:tensorflow:global_step/sec: 2133.93\n",
      "INFO:tensorflow:loss = 12.339712, step = 3901 (0.047 sec)\n",
      "INFO:tensorflow:global_step/sec: 1600.39\n",
      "INFO:tensorflow:loss = 16.932796, step = 4001 (0.062 sec)\n",
      "INFO:tensorflow:global_step/sec: 2133.82\n",
      "INFO:tensorflow:loss = 9.519312, step = 4101 (0.047 sec)\n",
      "INFO:tensorflow:global_step/sec: 2133.81\n",
      "INFO:tensorflow:loss = 12.391511, step = 4201 (0.047 sec)\n",
      "INFO:tensorflow:global_step/sec: 2133.85\n",
      "INFO:tensorflow:loss = 8.430919, step = 4301 (0.047 sec)\n",
      "INFO:tensorflow:global_step/sec: 2133.82\n",
      "INFO:tensorflow:loss = 19.516445, step = 4401 (0.047 sec)\n",
      "INFO:tensorflow:global_step/sec: 2133.83\n",
      "INFO:tensorflow:loss = 27.933828, step = 4501 (0.047 sec)\n",
      "INFO:tensorflow:global_step/sec: 2133.84\n",
      "INFO:tensorflow:loss = 12.966284, step = 4601 (0.047 sec)\n",
      "INFO:tensorflow:global_step/sec: 2133.8\n",
      "INFO:tensorflow:loss = 12.63817, step = 4701 (0.047 sec)\n",
      "INFO:tensorflow:global_step/sec: 2133.84\n",
      "INFO:tensorflow:loss = 15.060667, step = 4801 (0.062 sec)\n",
      "INFO:tensorflow:global_step/sec: 2133.87\n",
      "INFO:tensorflow:loss = 27.179958, step = 4901 (0.047 sec)\n",
      "INFO:tensorflow:global_step/sec: 1600.38\n",
      "INFO:tensorflow:loss = 55.687275, step = 5001 (0.047 sec)\n",
      "INFO:tensorflow:global_step/sec: 3200.73\n",
      "INFO:tensorflow:loss = 6.6194625, step = 5101 (0.047 sec)\n",
      "INFO:tensorflow:global_step/sec: 1600.37\n",
      "INFO:tensorflow:loss = 7.4938254, step = 5201 (0.047 sec)\n",
      "INFO:tensorflow:global_step/sec: 3200.81\n",
      "INFO:tensorflow:loss = 9.172366, step = 5301 (0.047 sec)\n",
      "INFO:tensorflow:global_step/sec: 2133.78\n",
      "INFO:tensorflow:loss = 27.451675, step = 5401 (0.047 sec)\n",
      "INFO:tensorflow:global_step/sec: 2133.89\n",
      "INFO:tensorflow:loss = 11.170241, step = 5501 (0.031 sec)\n",
      "INFO:tensorflow:global_step/sec: 1600.37\n",
      "INFO:tensorflow:loss = 38.281754, step = 5601 (0.062 sec)\n",
      "INFO:tensorflow:global_step/sec: 2133.83\n",
      "INFO:tensorflow:loss = 7.3467045, step = 5701 (0.047 sec)\n",
      "INFO:tensorflow:global_step/sec: 2133.84\n",
      "INFO:tensorflow:loss = 9.114642, step = 5801 (0.047 sec)\n",
      "INFO:tensorflow:global_step/sec: 2133.81\n",
      "INFO:tensorflow:loss = 17.681145, step = 5901 (0.047 sec)\n",
      "INFO:tensorflow:global_step/sec: 2133.85\n",
      "INFO:tensorflow:loss = 7.5787215, step = 6001 (0.062 sec)\n",
      "INFO:tensorflow:global_step/sec: 2133.82\n",
      "INFO:tensorflow:loss = 29.959955, step = 6101 (0.047 sec)\n",
      "INFO:tensorflow:global_step/sec: 1600.37\n",
      "INFO:tensorflow:loss = 16.016735, step = 6201 (0.047 sec)\n",
      "INFO:tensorflow:global_step/sec: 2133.82\n",
      "INFO:tensorflow:loss = 14.353197, step = 6301 (0.047 sec)\n"
     ]
    },
    {
     "name": "stdout",
     "output_type": "stream",
     "text": [
      "INFO:tensorflow:global_step/sec: 2133.87\n",
      "INFO:tensorflow:loss = 21.365837, step = 6401 (0.047 sec)\n",
      "INFO:tensorflow:global_step/sec: 2133.84\n",
      "INFO:tensorflow:loss = 11.713816, step = 6501 (0.047 sec)\n",
      "INFO:tensorflow:global_step/sec: 2133.8\n",
      "INFO:tensorflow:loss = 9.105903, step = 6601 (0.047 sec)\n",
      "INFO:tensorflow:global_step/sec: 2133.87\n",
      "INFO:tensorflow:loss = 7.9594936, step = 6701 (0.047 sec)\n",
      "INFO:tensorflow:global_step/sec: 2133.84\n",
      "INFO:tensorflow:loss = 21.541094, step = 6801 (0.047 sec)\n",
      "INFO:tensorflow:global_step/sec: 2133.81\n",
      "INFO:tensorflow:loss = 7.1204467, step = 6901 (0.047 sec)\n",
      "INFO:tensorflow:global_step/sec: 2133.83\n",
      "INFO:tensorflow:loss = 8.342213, step = 7001 (0.047 sec)\n",
      "INFO:tensorflow:global_step/sec: 2133.83\n",
      "INFO:tensorflow:loss = 7.0052166, step = 7101 (0.047 sec)\n",
      "INFO:tensorflow:global_step/sec: 2133.84\n",
      "INFO:tensorflow:loss = 14.2462845, step = 7201 (0.047 sec)\n",
      "INFO:tensorflow:global_step/sec: 2133.78\n",
      "INFO:tensorflow:loss = 32.62215, step = 7301 (0.047 sec)\n",
      "INFO:tensorflow:global_step/sec: 2133.87\n",
      "INFO:tensorflow:loss = 14.552391, step = 7401 (0.047 sec)\n",
      "INFO:tensorflow:global_step/sec: 3200.81\n",
      "INFO:tensorflow:loss = 11.184542, step = 7501 (0.047 sec)\n",
      "INFO:tensorflow:global_step/sec: 2133.78\n",
      "INFO:tensorflow:loss = 8.755974, step = 7601 (0.047 sec)\n",
      "INFO:tensorflow:global_step/sec: 2133.89\n",
      "INFO:tensorflow:loss = 22.850643, step = 7701 (0.047 sec)\n",
      "INFO:tensorflow:global_step/sec: 2133.84\n",
      "INFO:tensorflow:loss = 25.178364, step = 7801 (0.047 sec)\n",
      "INFO:tensorflow:global_step/sec: 2133.81\n",
      "INFO:tensorflow:loss = 6.98853, step = 7901 (0.047 sec)\n",
      "INFO:tensorflow:global_step/sec: 2133.84\n",
      "INFO:tensorflow:loss = 14.97038, step = 8001 (0.031 sec)\n",
      "INFO:tensorflow:global_step/sec: 2133.8\n",
      "INFO:tensorflow:loss = 18.450409, step = 8101 (0.047 sec)\n",
      "INFO:tensorflow:global_step/sec: 2133.87\n",
      "INFO:tensorflow:loss = 7.544894, step = 8201 (0.047 sec)\n",
      "INFO:tensorflow:global_step/sec: 2133.81\n",
      "INFO:tensorflow:loss = 29.74082, step = 8301 (0.047 sec)\n",
      "INFO:tensorflow:global_step/sec: 2133.77\n",
      "INFO:tensorflow:loss = 13.42167, step = 8401 (0.047 sec)\n",
      "INFO:tensorflow:global_step/sec: 2133.89\n",
      "INFO:tensorflow:loss = 19.43737, step = 8501 (0.047 sec)\n",
      "INFO:tensorflow:global_step/sec: 2133.82\n",
      "INFO:tensorflow:loss = 8.143712, step = 8601 (0.047 sec)\n",
      "INFO:tensorflow:global_step/sec: 2133.89\n",
      "INFO:tensorflow:loss = 17.068754, step = 8701 (0.047 sec)\n",
      "INFO:tensorflow:global_step/sec: 2133.82\n",
      "INFO:tensorflow:loss = 14.4186125, step = 8801 (0.047 sec)\n",
      "INFO:tensorflow:global_step/sec: 2133.84\n",
      "INFO:tensorflow:loss = 9.51154, step = 8901 (0.047 sec)\n",
      "INFO:tensorflow:global_step/sec: 2133.78\n",
      "INFO:tensorflow:loss = 8.079119, step = 9001 (0.047 sec)\n",
      "INFO:tensorflow:global_step/sec: 2133.89\n",
      "INFO:tensorflow:loss = 8.064003, step = 9101 (0.047 sec)\n",
      "INFO:tensorflow:global_step/sec: 2133.84\n",
      "INFO:tensorflow:loss = 18.55227, step = 9201 (0.047 sec)\n",
      "INFO:tensorflow:global_step/sec: 2133.8\n",
      "INFO:tensorflow:loss = 8.966579, step = 9301 (0.047 sec)\n",
      "INFO:tensorflow:global_step/sec: 2133.84\n",
      "INFO:tensorflow:loss = 7.2362366, step = 9401 (0.047 sec)\n",
      "INFO:tensorflow:global_step/sec: 2133.83\n",
      "INFO:tensorflow:loss = 10.299638, step = 9501 (0.047 sec)\n",
      "INFO:tensorflow:global_step/sec: 2133.84\n",
      "INFO:tensorflow:loss = 17.283148, step = 9601 (0.047 sec)\n",
      "INFO:tensorflow:global_step/sec: 2133.83\n",
      "INFO:tensorflow:loss = 9.826041, step = 9701 (0.047 sec)\n",
      "INFO:tensorflow:global_step/sec: 2133.81\n",
      "INFO:tensorflow:loss = 7.6084404, step = 9801 (0.047 sec)\n",
      "INFO:tensorflow:global_step/sec: 2133.84\n",
      "INFO:tensorflow:loss = 21.580698, step = 9901 (0.047 sec)\n",
      "INFO:tensorflow:Saving checkpoints for 10000 into C:\\Users\\fabio\\AppData\\Local\\Temp\\tmp5x7uksyj\\model.ckpt.\n",
      "INFO:tensorflow:Loss for final step: 10.588161.\n"
     ]
    },
    {
     "data": {
      "text/plain": [
       "<tensorflow_estimator.python.estimator.canned.linear.LinearRegressor at 0x28afa2b3b38>"
      ]
     },
     "execution_count": 28,
     "metadata": {},
     "output_type": "execute_result"
    }
   ],
   "source": [
    "regressor.train(input_fn = funcao_treinamento, steps = 10000)"
   ]
  },
  {
   "cell_type": "code",
   "execution_count": 29,
   "metadata": {},
   "outputs": [
    {
     "name": "stdout",
     "output_type": "stream",
     "text": [
      "INFO:tensorflow:Calling model_fn.\n",
      "INFO:tensorflow:Done calling model_fn.\n",
      "INFO:tensorflow:Starting evaluation at 2019-06-26T01:25:47Z\n",
      "INFO:tensorflow:Graph was finalized.\n",
      "WARNING:tensorflow:From C:\\Users\\fabio\\Anaconda3\\lib\\site-packages\\tensorflow\\python\\training\\saver.py:1266: checkpoint_exists (from tensorflow.python.training.checkpoint_management) is deprecated and will be removed in a future version.\n",
      "Instructions for updating:\n",
      "Use standard file APIs to check for files with this prefix.\n",
      "INFO:tensorflow:Restoring parameters from C:\\Users\\fabio\\AppData\\Local\\Temp\\tmp5x7uksyj\\model.ckpt-10000\n",
      "INFO:tensorflow:Running local_init_op.\n",
      "INFO:tensorflow:Done running local_init_op.\n",
      "INFO:tensorflow:Evaluation [1000/10000]\n",
      "INFO:tensorflow:Evaluation [2000/10000]\n",
      "INFO:tensorflow:Evaluation [3000/10000]\n",
      "INFO:tensorflow:Evaluation [4000/10000]\n",
      "INFO:tensorflow:Evaluation [5000/10000]\n",
      "INFO:tensorflow:Evaluation [6000/10000]\n",
      "INFO:tensorflow:Evaluation [7000/10000]\n",
      "INFO:tensorflow:Evaluation [8000/10000]\n",
      "INFO:tensorflow:Evaluation [9000/10000]\n",
      "INFO:tensorflow:Evaluation [10000/10000]\n",
      "INFO:tensorflow:Finished evaluation at 2019-06-26-01:25:51\n",
      "INFO:tensorflow:Saving dict for global step 10000: average_loss = 0.49546093, global_step = 10000, label/mean = -0.004685655, loss = 15.85475, prediction/mean = 0.015869543\n",
      "INFO:tensorflow:Saving 'checkpoint_path' summary for global step 10000: C:\\Users\\fabio\\AppData\\Local\\Temp\\tmp5x7uksyj\\model.ckpt-10000\n"
     ]
    }
   ],
   "source": [
    "metricas_treinamento = regressor.evaluate(input_fn = funcao_treinamento, steps = 10000)"
   ]
  },
  {
   "cell_type": "code",
   "execution_count": 30,
   "metadata": {},
   "outputs": [
    {
     "name": "stdout",
     "output_type": "stream",
     "text": [
      "INFO:tensorflow:Calling model_fn.\n",
      "INFO:tensorflow:Done calling model_fn.\n",
      "INFO:tensorflow:Starting evaluation at 2019-06-26T01:26:16Z\n",
      "INFO:tensorflow:Graph was finalized.\n",
      "INFO:tensorflow:Restoring parameters from C:\\Users\\fabio\\AppData\\Local\\Temp\\tmp5x7uksyj\\model.ckpt-10000\n",
      "INFO:tensorflow:Running local_init_op.\n",
      "INFO:tensorflow:Done running local_init_op.\n",
      "INFO:tensorflow:Evaluation [1000/10000]\n",
      "INFO:tensorflow:Evaluation [2000/10000]\n",
      "INFO:tensorflow:Evaluation [3000/10000]\n",
      "INFO:tensorflow:Evaluation [4000/10000]\n",
      "INFO:tensorflow:Evaluation [5000/10000]\n",
      "INFO:tensorflow:Evaluation [6000/10000]\n",
      "INFO:tensorflow:Evaluation [7000/10000]\n",
      "INFO:tensorflow:Evaluation [8000/10000]\n",
      "INFO:tensorflow:Evaluation [9000/10000]\n",
      "INFO:tensorflow:Evaluation [10000/10000]\n",
      "INFO:tensorflow:Finished evaluation at 2019-06-26-01:26:21\n",
      "INFO:tensorflow:Saving dict for global step 10000: average_loss = 0.5351365, global_step = 10000, label/mean = 0.011056491, loss = 17.124369, prediction/mean = 0.031415865\n",
      "INFO:tensorflow:Saving 'checkpoint_path' summary for global step 10000: C:\\Users\\fabio\\AppData\\Local\\Temp\\tmp5x7uksyj\\model.ckpt-10000\n"
     ]
    }
   ],
   "source": [
    "metricas_teste = regressor.evaluate(input_fn = funcao_teste, steps = 10000)"
   ]
  },
  {
   "cell_type": "code",
   "execution_count": 31,
   "metadata": {},
   "outputs": [
    {
     "data": {
      "text/plain": [
       "{'average_loss': 0.49546093,\n",
       " 'label/mean': -0.004685655,\n",
       " 'loss': 15.85475,\n",
       " 'prediction/mean': 0.015869543,\n",
       " 'global_step': 10000}"
      ]
     },
     "execution_count": 31,
     "metadata": {},
     "output_type": "execute_result"
    }
   ],
   "source": [
    "metricas_treinamento"
   ]
  },
  {
   "cell_type": "code",
   "execution_count": 32,
   "metadata": {},
   "outputs": [
    {
     "data": {
      "text/plain": [
       "{'average_loss': 0.5351365,\n",
       " 'label/mean': 0.011056491,\n",
       " 'loss': 17.124369,\n",
       " 'prediction/mean': 0.031415865,\n",
       " 'global_step': 10000}"
      ]
     },
     "execution_count": 32,
     "metadata": {},
     "output_type": "execute_result"
    }
   ],
   "source": [
    "metricas_teste"
   ]
  },
  {
   "cell_type": "code",
   "execution_count": 33,
   "metadata": {},
   "outputs": [
    {
     "data": {
      "text/plain": [
       "array([[ 800],\n",
       "       [ 900],\n",
       "       [1000]])"
      ]
     },
     "execution_count": 33,
     "metadata": {},
     "output_type": "execute_result"
    }
   ],
   "source": [
    "import numpy as np\n",
    "novas_casas = np.array([[800], [900], [1000]])\n",
    "novas_casas"
   ]
  },
  {
   "cell_type": "code",
   "execution_count": 34,
   "metadata": {},
   "outputs": [
    {
     "name": "stderr",
     "output_type": "stream",
     "text": [
      "C:\\Users\\fabio\\Anaconda3\\lib\\site-packages\\sklearn\\utils\\validation.py:595: DataConversionWarning: Data with input dtype int32 was converted to float64 by StandardScaler.\n",
      "  warnings.warn(msg, DataConversionWarning)\n"
     ]
    },
    {
     "data": {
      "text/plain": [
       "array([[-1.39358923],\n",
       "       [-1.28470655],\n",
       "       [-1.17582386]])"
      ]
     },
     "execution_count": 34,
     "metadata": {},
     "output_type": "execute_result"
    }
   ],
   "source": [
    "novas_casas = scaler_x.transform(novas_casas)\n",
    "novas_casas"
   ]
  },
  {
   "cell_type": "code",
   "execution_count": 35,
   "metadata": {},
   "outputs": [],
   "source": [
    "funcao_previsao = tf.estimator.inputs.numpy_input_fn({'x': novas_casas}, shuffle = False)"
   ]
  },
  {
   "cell_type": "code",
   "execution_count": 36,
   "metadata": {},
   "outputs": [],
   "source": [
    "previsoes = regressor.predict(input_fn = funcao_previsao)"
   ]
  },
  {
   "cell_type": "code",
   "execution_count": 37,
   "metadata": {},
   "outputs": [
    {
     "data": {
      "text/plain": [
       "<generator object EstimatorV2.predict at 0x0000028AFFF2AB10>"
      ]
     },
     "execution_count": 37,
     "metadata": {},
     "output_type": "execute_result"
    }
   ],
   "source": [
    "previsoes"
   ]
  },
  {
   "cell_type": "code",
   "execution_count": 38,
   "metadata": {},
   "outputs": [
    {
     "name": "stdout",
     "output_type": "stream",
     "text": [
      "INFO:tensorflow:Calling model_fn.\n",
      "INFO:tensorflow:Done calling model_fn.\n",
      "INFO:tensorflow:Graph was finalized.\n",
      "INFO:tensorflow:Restoring parameters from C:\\Users\\fabio\\AppData\\Local\\Temp\\tmp5x7uksyj\\model.ckpt-10000\n",
      "INFO:tensorflow:Running local_init_op.\n",
      "INFO:tensorflow:Done running local_init_op.\n"
     ]
    },
    {
     "data": {
      "text/plain": [
       "[{'predictions': array([-0.96265334], dtype=float32)},\n",
       " {'predictions': array([-0.88583857], dtype=float32)},\n",
       " {'predictions': array([-0.80902374], dtype=float32)}]"
      ]
     },
     "execution_count": 38,
     "metadata": {},
     "output_type": "execute_result"
    }
   ],
   "source": [
    "list(previsoes)"
   ]
  },
  {
   "cell_type": "code",
   "execution_count": 40,
   "metadata": {},
   "outputs": [
    {
     "name": "stdout",
     "output_type": "stream",
     "text": [
      "INFO:tensorflow:Calling model_fn.\n",
      "INFO:tensorflow:Done calling model_fn.\n",
      "INFO:tensorflow:Graph was finalized.\n",
      "INFO:tensorflow:Restoring parameters from C:\\Users\\fabio\\AppData\\Local\\Temp\\tmp5x7uksyj\\model.ckpt-10000\n",
      "INFO:tensorflow:Running local_init_op.\n",
      "INFO:tensorflow:Done running local_init_op.\n",
      "[186680.11]\n",
      "[214880.23]\n",
      "[243080.39]\n"
     ]
    }
   ],
   "source": [
    "for p in regressor.predict(input_fn = funcao_previsao):\n",
    "    #print(p['predictions'])\n",
    "    print(scaler_y.inverse_transform(p['predictions']))"
   ]
  },
  {
   "cell_type": "code",
   "execution_count": null,
   "metadata": {},
   "outputs": [],
   "source": []
  }
 ],
 "metadata": {
  "kernelspec": {
   "display_name": "Python 3",
   "language": "python",
   "name": "python3"
  },
  "language_info": {
   "codemirror_mode": {
    "name": "ipython",
    "version": 3
   },
   "file_extension": ".py",
   "mimetype": "text/x-python",
   "name": "python",
   "nbconvert_exporter": "python",
   "pygments_lexer": "ipython3",
   "version": "3.7.1"
  }
 },
 "nbformat": 4,
 "nbformat_minor": 2
}
